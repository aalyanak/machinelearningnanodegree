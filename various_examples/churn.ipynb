{
 "cells": [
  {
   "cell_type": "code",
   "execution_count": 61,
   "metadata": {},
   "outputs": [],
   "source": [
    "import pandas as pd\n",
    "import numpy as np\n",
    "%matplotlib inline\n",
    "\n",
    "import seaborn as sns\n",
    "import matplotlib.pyplot as pl\n",
    "import matplotlib as mpl\n",
    "\n",
    "from sklearn.model_selection import train_test_split, cross_val_score\n",
    "from sklearn.metrics import roc_curve, auc, classification_report, precision_recall_curve, average_precision_score\n",
    "from sklearn import preprocessing\n",
    "\n",
    "from sklearn import cross_validation, metrics\n",
    "from sklearn.grid_search import GridSearchCV\n"
   ]
  },
  {
   "cell_type": "code",
   "execution_count": 62,
   "metadata": {},
   "outputs": [
    {
     "name": "stdout",
     "output_type": "stream",
     "text": [
      "(3333, 21)\n"
     ]
    },
    {
     "data": {
      "text/html": [
       "<div>\n",
       "<style>\n",
       "    .dataframe thead tr:only-child th {\n",
       "        text-align: right;\n",
       "    }\n",
       "\n",
       "    .dataframe thead th {\n",
       "        text-align: left;\n",
       "    }\n",
       "\n",
       "    .dataframe tbody tr th {\n",
       "        vertical-align: top;\n",
       "    }\n",
       "</style>\n",
       "<table border=\"1\" class=\"dataframe\">\n",
       "  <thead>\n",
       "    <tr style=\"text-align: right;\">\n",
       "      <th></th>\n",
       "      <th>State</th>\n",
       "      <th>Account Length</th>\n",
       "      <th>Area Code</th>\n",
       "      <th>Phone</th>\n",
       "      <th>Int'l Plan</th>\n",
       "      <th>VMail Plan</th>\n",
       "      <th>VMail Message</th>\n",
       "      <th>Day Mins</th>\n",
       "      <th>Day Calls</th>\n",
       "      <th>Day Charge</th>\n",
       "      <th>...</th>\n",
       "      <th>Eve Calls</th>\n",
       "      <th>Eve Charge</th>\n",
       "      <th>Night Mins</th>\n",
       "      <th>Night Calls</th>\n",
       "      <th>Night Charge</th>\n",
       "      <th>Intl Mins</th>\n",
       "      <th>Intl Calls</th>\n",
       "      <th>Intl Charge</th>\n",
       "      <th>CustServ Calls</th>\n",
       "      <th>Churn?</th>\n",
       "    </tr>\n",
       "  </thead>\n",
       "  <tbody>\n",
       "    <tr>\n",
       "      <th>0</th>\n",
       "      <td>KS</td>\n",
       "      <td>128</td>\n",
       "      <td>415</td>\n",
       "      <td>382-4657</td>\n",
       "      <td>no</td>\n",
       "      <td>yes</td>\n",
       "      <td>25</td>\n",
       "      <td>265.1</td>\n",
       "      <td>110</td>\n",
       "      <td>45.07</td>\n",
       "      <td>...</td>\n",
       "      <td>99</td>\n",
       "      <td>16.78</td>\n",
       "      <td>244.7</td>\n",
       "      <td>91</td>\n",
       "      <td>11.01</td>\n",
       "      <td>10.0</td>\n",
       "      <td>3</td>\n",
       "      <td>2.70</td>\n",
       "      <td>1</td>\n",
       "      <td>False.</td>\n",
       "    </tr>\n",
       "    <tr>\n",
       "      <th>1</th>\n",
       "      <td>OH</td>\n",
       "      <td>107</td>\n",
       "      <td>415</td>\n",
       "      <td>371-7191</td>\n",
       "      <td>no</td>\n",
       "      <td>yes</td>\n",
       "      <td>26</td>\n",
       "      <td>161.6</td>\n",
       "      <td>123</td>\n",
       "      <td>27.47</td>\n",
       "      <td>...</td>\n",
       "      <td>103</td>\n",
       "      <td>16.62</td>\n",
       "      <td>254.4</td>\n",
       "      <td>103</td>\n",
       "      <td>11.45</td>\n",
       "      <td>13.7</td>\n",
       "      <td>3</td>\n",
       "      <td>3.70</td>\n",
       "      <td>1</td>\n",
       "      <td>False.</td>\n",
       "    </tr>\n",
       "    <tr>\n",
       "      <th>2</th>\n",
       "      <td>NJ</td>\n",
       "      <td>137</td>\n",
       "      <td>415</td>\n",
       "      <td>358-1921</td>\n",
       "      <td>no</td>\n",
       "      <td>no</td>\n",
       "      <td>0</td>\n",
       "      <td>243.4</td>\n",
       "      <td>114</td>\n",
       "      <td>41.38</td>\n",
       "      <td>...</td>\n",
       "      <td>110</td>\n",
       "      <td>10.30</td>\n",
       "      <td>162.6</td>\n",
       "      <td>104</td>\n",
       "      <td>7.32</td>\n",
       "      <td>12.2</td>\n",
       "      <td>5</td>\n",
       "      <td>3.29</td>\n",
       "      <td>0</td>\n",
       "      <td>False.</td>\n",
       "    </tr>\n",
       "    <tr>\n",
       "      <th>3</th>\n",
       "      <td>OH</td>\n",
       "      <td>84</td>\n",
       "      <td>408</td>\n",
       "      <td>375-9999</td>\n",
       "      <td>yes</td>\n",
       "      <td>no</td>\n",
       "      <td>0</td>\n",
       "      <td>299.4</td>\n",
       "      <td>71</td>\n",
       "      <td>50.90</td>\n",
       "      <td>...</td>\n",
       "      <td>88</td>\n",
       "      <td>5.26</td>\n",
       "      <td>196.9</td>\n",
       "      <td>89</td>\n",
       "      <td>8.86</td>\n",
       "      <td>6.6</td>\n",
       "      <td>7</td>\n",
       "      <td>1.78</td>\n",
       "      <td>2</td>\n",
       "      <td>False.</td>\n",
       "    </tr>\n",
       "    <tr>\n",
       "      <th>4</th>\n",
       "      <td>OK</td>\n",
       "      <td>75</td>\n",
       "      <td>415</td>\n",
       "      <td>330-6626</td>\n",
       "      <td>yes</td>\n",
       "      <td>no</td>\n",
       "      <td>0</td>\n",
       "      <td>166.7</td>\n",
       "      <td>113</td>\n",
       "      <td>28.34</td>\n",
       "      <td>...</td>\n",
       "      <td>122</td>\n",
       "      <td>12.61</td>\n",
       "      <td>186.9</td>\n",
       "      <td>121</td>\n",
       "      <td>8.41</td>\n",
       "      <td>10.1</td>\n",
       "      <td>3</td>\n",
       "      <td>2.73</td>\n",
       "      <td>3</td>\n",
       "      <td>False.</td>\n",
       "    </tr>\n",
       "  </tbody>\n",
       "</table>\n",
       "<p>5 rows × 21 columns</p>\n",
       "</div>"
      ],
      "text/plain": [
       "  State  Account Length  Area Code     Phone Int'l Plan VMail Plan  \\\n",
       "0    KS             128        415  382-4657         no        yes   \n",
       "1    OH             107        415  371-7191         no        yes   \n",
       "2    NJ             137        415  358-1921         no         no   \n",
       "3    OH              84        408  375-9999        yes         no   \n",
       "4    OK              75        415  330-6626        yes         no   \n",
       "\n",
       "   VMail Message  Day Mins  Day Calls  Day Charge   ...    Eve Calls  \\\n",
       "0             25     265.1        110       45.07   ...           99   \n",
       "1             26     161.6        123       27.47   ...          103   \n",
       "2              0     243.4        114       41.38   ...          110   \n",
       "3              0     299.4         71       50.90   ...           88   \n",
       "4              0     166.7        113       28.34   ...          122   \n",
       "\n",
       "   Eve Charge  Night Mins  Night Calls  Night Charge  Intl Mins  Intl Calls  \\\n",
       "0       16.78       244.7           91         11.01       10.0           3   \n",
       "1       16.62       254.4          103         11.45       13.7           3   \n",
       "2       10.30       162.6          104          7.32       12.2           5   \n",
       "3        5.26       196.9           89          8.86        6.6           7   \n",
       "4       12.61       186.9          121          8.41       10.1           3   \n",
       "\n",
       "   Intl Charge  CustServ Calls  Churn?  \n",
       "0         2.70               1  False.  \n",
       "1         3.70               1  False.  \n",
       "2         3.29               0  False.  \n",
       "3         1.78               2  False.  \n",
       "4         2.73               3  False.  \n",
       "\n",
       "[5 rows x 21 columns]"
      ]
     },
     "execution_count": 62,
     "metadata": {},
     "output_type": "execute_result"
    }
   ],
   "source": [
    "data = pd.read_csv(\"churn.csv\")\n",
    "\n",
    "print(data.shape)\n",
    "data.head()"
   ]
  },
  {
   "cell_type": "code",
   "execution_count": 63,
   "metadata": {},
   "outputs": [
    {
     "data": {
      "text/plain": [
       "False.    2850\n",
       "True.      483\n",
       "Name: Churn?, dtype: int64"
      ]
     },
     "execution_count": 63,
     "metadata": {},
     "output_type": "execute_result"
    }
   ],
   "source": [
    "data['Churn?'].value_counts()"
   ]
  },
  {
   "cell_type": "code",
   "execution_count": 65,
   "metadata": {},
   "outputs": [
    {
     "data": {
      "image/png": "[encoded data removed]",
      "text/plain": [
       "<matplotlib.figure.Figure at 0xd5179b0>"
      ]
     },
     "metadata": {},
     "output_type": "display_data"
    }
   ],
   "source": [
    "fig = pl.figure(figsize = (11,5));\n",
    "\n",
    "# Skewed feature plotting\n",
    "for i, feature in enumerate(['Day Mins','Night Mins']):\n",
    "    ax = fig.add_subplot(1, 2, i+1)\n",
    "    ax.hist(data[feature], bins = 25, color = '#00A0A0')\n",
    "    ax.set_title(\"'%s' Feature Distribution\"%(feature), fontsize = 14)\n",
    "\n",
    "fig.tight_layout()\n",
    "fig.show()"
   ]
  },
  {
   "cell_type": "code",
   "execution_count": 66,
   "metadata": {},
   "outputs": [
    {
     "data": {
      "text/plain": [
       "State              object\n",
       "Account Length      int64\n",
       "Area Code           int64\n",
       "Phone              object\n",
       "Int'l Plan         object\n",
       "VMail Plan         object\n",
       "VMail Message       int64\n",
       "Day Mins          float64\n",
       "Day Calls           int64\n",
       "Day Charge        float64\n",
       "Eve Mins          float64\n",
       "Eve Calls           int64\n",
       "Eve Charge        float64\n",
       "Night Mins        float64\n",
       "Night Calls         int64\n",
       "Night Charge      float64\n",
       "Intl Mins         float64\n",
       "Intl Calls          int64\n",
       "Intl Charge       float64\n",
       "CustServ Calls      int64\n",
       "Churn?             object\n",
       "dtype: object"
      ]
     },
     "execution_count": 66,
     "metadata": {},
     "output_type": "execute_result"
    }
   ],
   "source": [
    "data.dtypes"
   ]
  },
  {
   "cell_type": "code",
   "execution_count": 67,
   "metadata": {},
   "outputs": [
    {
     "name": "stdout",
     "output_type": "stream",
     "text": [
      "\n",
      "Frequency count for variable State\n",
      "WV    106\n",
      "MN     84\n",
      "NY     83\n",
      "AL     80\n",
      "WI     78\n",
      "OH     78\n",
      "OR     78\n",
      "WY     77\n",
      "VA     77\n",
      "CT     74\n",
      "MI     73\n",
      "ID     73\n",
      "VT     73\n",
      "TX     72\n",
      "UT     72\n",
      "IN     71\n",
      "KS     70\n",
      "MD     70\n",
      "MT     68\n",
      "NJ     68\n",
      "NC     68\n",
      "NV     66\n",
      "WA     66\n",
      "CO     66\n",
      "MS     65\n",
      "RI     65\n",
      "MA     65\n",
      "AZ     64\n",
      "MO     63\n",
      "FL     63\n",
      "NM     62\n",
      "ME     62\n",
      "ND     62\n",
      "DE     61\n",
      "OK     61\n",
      "NE     61\n",
      "SC     60\n",
      "SD     60\n",
      "KY     59\n",
      "IL     58\n",
      "NH     56\n",
      "AR     55\n",
      "DC     54\n",
      "GA     54\n",
      "TN     53\n",
      "HI     53\n",
      "AK     52\n",
      "LA     51\n",
      "PA     45\n",
      "IA     44\n",
      "CA     34\n",
      "Name: State, dtype: int64\n",
      "\n",
      "Frequency count for variable Phone\n",
      "385-6952    1\n",
      "405-5403    1\n",
      "368-6174    1\n",
      "353-7730    1\n",
      "370-7565    1\n",
      "346-6352    1\n",
      "387-7371    1\n",
      "384-1621    1\n",
      "369-2625    1\n",
      "372-3987    1\n",
      "411-1530    1\n",
      "417-4810    1\n",
      "355-9581    1\n",
      "383-9448    1\n",
      "400-5751    1\n",
      "344-9302    1\n",
      "413-7743    1\n",
      "397-4968    1\n",
      "362-7581    1\n",
      "336-5920    1\n",
      "376-4292    1\n",
      "386-7118    1\n",
      "347-5354    1\n",
      "405-2831    1\n",
      "417-5320    1\n",
      "390-9735    1\n",
      "420-7692    1\n",
      "419-6564    1\n",
      "369-1220    1\n",
      "343-2392    1\n",
      "           ..\n",
      "367-9127    1\n",
      "406-4840    1\n",
      "341-8719    1\n",
      "420-6052    1\n",
      "408-6302    1\n",
      "336-2322    1\n",
      "327-6087    1\n",
      "378-8029    1\n",
      "400-4344    1\n",
      "328-2110    1\n",
      "350-7273    1\n",
      "405-3916    1\n",
      "332-6181    1\n",
      "335-9786    1\n",
      "360-7079    1\n",
      "395-7857    1\n",
      "418-8170    1\n",
      "338-9952    1\n",
      "393-8736    1\n",
      "405-6189    1\n",
      "400-3197    1\n",
      "402-5076    1\n",
      "333-3447    1\n",
      "358-1329    1\n",
      "408-1513    1\n",
      "349-3843    1\n",
      "351-4226    1\n",
      "363-5947    1\n",
      "346-6941    1\n",
      "373-3959    1\n",
      "Name: Phone, Length: 3333, dtype: int64\n",
      "\n",
      "Frequency count for variable Int'l Plan\n",
      "no     3010\n",
      "yes     323\n",
      "Name: Int'l Plan, dtype: int64\n",
      "\n",
      "Frequency count for variable VMail Plan\n",
      "no     2411\n",
      "yes     922\n",
      "Name: VMail Plan, dtype: int64\n"
     ]
    }
   ],
   "source": [
    "var = ['State','Phone','Int\\'l Plan','VMail Plan']\n",
    "for v in var:\n",
    "    print '\\nFrequency count for variable %s'%v\n",
    "    print data[v].value_counts()"
   ]
  },
  {
   "cell_type": "code",
   "execution_count": 68,
   "metadata": {},
   "outputs": [],
   "source": [
    "data.drop('State',axis=1,inplace=True)\n",
    "data.drop('Phone',axis=1,inplace=True)"
   ]
  },
  {
   "cell_type": "code",
   "execution_count": 69,
   "metadata": {},
   "outputs": [],
   "source": [
    "data = data.rename(index=str, columns={\"Int\\'l Plan\": \"Intl Plan\", \"Churn?\":\"Churn\"})"
   ]
  },
  {
   "cell_type": "code",
   "execution_count": 70,
   "metadata": {},
   "outputs": [
    {
     "data": {
      "text/plain": [
       "Account Length    0\n",
       "Area Code         0\n",
       "Intl Plan         0\n",
       "VMail Plan        0\n",
       "VMail Message     0\n",
       "Day Mins          0\n",
       "Day Calls         0\n",
       "Day Charge        0\n",
       "Eve Mins          0\n",
       "Eve Calls         0\n",
       "Eve Charge        0\n",
       "Night Mins        0\n",
       "Night Calls       0\n",
       "Night Charge      0\n",
       "Intl Mins         0\n",
       "Intl Calls        0\n",
       "Intl Charge       0\n",
       "CustServ Calls    0\n",
       "Churn             0\n",
       "dtype: int64"
      ]
     },
     "execution_count": 70,
     "metadata": {},
     "output_type": "execute_result"
    }
   ],
   "source": [
    "data.apply(lambda x: sum(x.isnull()))"
   ]
  },
  {
   "cell_type": "code",
   "execution_count": 55,
   "metadata": {
    "collapsed": true
   },
   "outputs": [],
   "source": [
    "#data['Churn'] = data.apply(lambda x: 1 if x == 'True.' else 0) "
   ]
  },
  {
   "cell_type": "code",
   "execution_count": 72,
   "metadata": {},
   "outputs": [],
   "source": [
    "from sklearn.preprocessing import LabelEncoder\n",
    "le = LabelEncoder()\n",
    "var_to_encode = ['Intl Plan','VMail Plan']\n",
    "for col in var_to_encode:\n",
    "    data[col] = le.fit_transform(data[col])"
   ]
  },
  {
   "cell_type": "code",
   "execution_count": 73,
   "metadata": {},
   "outputs": [
    {
     "data": {
      "text/plain": [
       "Index([u'Account Length', u'Area Code', u'VMail Message', u'Day Mins',\n",
       "       u'Day Calls', u'Day Charge', u'Eve Mins', u'Eve Calls', u'Eve Charge',\n",
       "       u'Night Mins', u'Night Calls', u'Night Charge', u'Intl Mins',\n",
       "       u'Intl Calls', u'Intl Charge', u'CustServ Calls', u'Churn',\n",
       "       u'Intl Plan_0', u'Intl Plan_1', u'VMail Plan_0', u'VMail Plan_1'],\n",
       "      dtype='object')"
      ]
     },
     "execution_count": 73,
     "metadata": {},
     "output_type": "execute_result"
    }
   ],
   "source": [
    "data = pd.get_dummies(data, columns=var_to_encode)\n",
    "data.columns"
   ]
  },
  {
   "cell_type": "code",
   "execution_count": 75,
   "metadata": {
    "collapsed": true
   },
   "outputs": [],
   "source": [
    "churn = data['Churn']\n",
    "X = data.drop('Churn', axis = 1)\n",
    "\n",
    "y = churn.apply(lambda x: 1 if x == 'True.' else 0) "
   ]
  },
  {
   "cell_type": "code",
   "execution_count": 76,
   "metadata": {
    "collapsed": true
   },
   "outputs": [],
   "source": [
    "X_train, X_test, y_train, y_test = train_test_split(X, y, test_size = 0.2, random_state = 42)"
   ]
  },
  {
   "cell_type": "code",
   "execution_count": 138,
   "metadata": {
    "collapsed": true
   },
   "outputs": [],
   "source": [
    "def modelfit(alg, X_train, y_train, X_test, y_test, predictors, cv_folds=5):\n",
    "    #Fit the algorithm on the data\n",
    "    alg.fit(X_train, y_train)\n",
    "        \n",
    "    #Predict training set:\n",
    "    y_pred = alg.predict(X_test)\n",
    "    y_predprob = alg.predict_proba(X_test)[:,1]\n",
    "    \n",
    "    #Perform cross-validation:\n",
    "    cv_score = cross_validation.cross_val_score(alg, X_train, y_train, cv=5, scoring='roc_auc')\n",
    "    \n",
    "    #Print model report:\n",
    "    print \"\\nModel Report\"\n",
    "    print \"Accuracy : %.4g\" % metrics.accuracy_score(y_test, y_pred)\n",
    "    print \"AUC Score (Train): %f\" % metrics.roc_auc_score(y_test, y_predprob)\n",
    "    \n",
    "    print \"CV Score : Mean - %.7g | Std - %.7g | Min - %.7g | Max - %.7g\" % (np.mean(cv_score),np.std(cv_score),np.min(cv_score),np.max(cv_score))\n",
    "                \n",
    "    #Print Feature Importance:\n",
    "    feat_imp = pd.Series(alg.feature_importances_, predictors).sort_values(ascending=False)\n",
    "    feat_imp.plot(kind='bar', title='Feature Importances')\n",
    "    plt.ylabel('Feature Importance Score')"
   ]
  },
  {
   "cell_type": "code",
   "execution_count": 139,
   "metadata": {
    "collapsed": true
   },
   "outputs": [],
   "source": [
    "from sklearn.metrics import fbeta_score\n",
    "from sklearn.metrics import accuracy_score\n",
    "\n",
    "def train_predict(learner, X_train, y_train, X_test, y_test):\n",
    "    \n",
    "    results = {}\n",
    "    \n",
    "    learner = learner.fit(X_train,y_train)\n",
    "    predictions_test = learner.predict(X_test)\n",
    "    predictions_train = learner.predict(X_train)\n",
    "\n",
    "    results['acc_train'] = accuracy_score(y_train,predictions_train)\n",
    "    results['acc_test'] = accuracy_score(y_test,predictions_test)\n",
    "\n",
    "    beta=0.5\n",
    "    results['f_train'] = fbeta_score(y_train,predictions_train,beta)\n",
    "    results['f_test'] = fbeta_score(y_test,predictions_test,beta)\n",
    "       \n",
    "    print \"{} : {} samples are trained.\".format(learner.__class__.__name__, len(X_train))\n",
    "    return results"
   ]
  },
  {
   "cell_type": "code",
   "execution_count": 140,
   "metadata": {},
   "outputs": [
    {
     "name": "stdout",
     "output_type": "stream",
     "text": [
      "AdaBoostClassifier : 2666 samples are trained.\n",
      "DecisionTreeClassifier : 2666 samples are trained.\n",
      "GradientBoostingClassifier : 2666 samples are trained.\n",
      "RandomForestClassifier : 2666 samples are trained.\n"
     ]
    }
   ],
   "source": [
    "from sklearn.ensemble import AdaBoostClassifier\n",
    "from sklearn.tree import DecisionTreeClassifier\n",
    "from sklearn.ensemble import GradientBoostingClassifier\n",
    "from sklearn.ensemble import RandomForestClassifier\n",
    "\n",
    "clf_A = AdaBoostClassifier()\n",
    "clf_B = DecisionTreeClassifier()\n",
    "clf_C = GradientBoostingClassifier()\n",
    "clf_D = RandomForestClassifier()\n",
    "\n",
    "results = {}\n",
    "for clf in [clf_A, clf_B, clf_C,clf_D]:\n",
    "    clf_name = clf.__class__.__name__\n",
    "    results[clf_name] = train_predict(clf, X_train, y_train, X_test, y_test)"
   ]
  },
  {
   "cell_type": "code",
   "execution_count": 141,
   "metadata": {},
   "outputs": [
    {
     "data": {
      "image/png": "[encoded data removed]",
      "text/plain": [
       "<matplotlib.figure.Figure at 0xd729470>"
      ]
     },
     "metadata": {},
     "output_type": "display_data"
    }
   ],
   "source": [
    "import matplotlib.pyplot as pl\n",
    "import matplotlib.patches as mpatches\n",
    "import numpy as np\n",
    "import pandas as pd\n",
    "from time import time\n",
    "from sklearn.metrics import f1_score, accuracy_score\n",
    "\n",
    "\n",
    "fig, ax = pl.subplots(2, 2, figsize = (11,7))\n",
    "\n",
    "# Constants\n",
    "bar_width = 0.5\n",
    "colors = ['#A00000','#00A0A0','#00A000','#FFBF00']\n",
    "\n",
    "# Super loop to plot four panels of data\n",
    "for k, learner in enumerate(results.keys()):\n",
    "    for j, metric in enumerate(['acc_train', 'f_train','acc_test', 'f_test']):\n",
    "#        for i in np.arange(3):\n",
    "            # Creative plot code\n",
    "        ax[j/2, j%2].bar(k*bar_width, results[learner][metric], width = bar_width, color = colors[k])\n",
    "        #ax[j/2, j%2].set_xticks([0.45, 1.45, 2.45])\n",
    "        \n",
    "        ax[j/2, j%2].set_xticks([0.8])\n",
    "        ax[j/2, j%2].set_xticklabels([\"CLASSIFIER\"])\n",
    "        ax[j/2, j%2].set_xlim((-0.2, 2.0))\n",
    "\n",
    "# Add unique y-labels\n",
    "ax[0, 0].set_ylabel(\"Accuracy Score\")\n",
    "ax[0, 1].set_ylabel(\"F-score\")\n",
    "ax[1, 0].set_ylabel(\"Accuracy Score\")\n",
    "ax[1, 1].set_ylabel(\"F-score\")\n",
    "\n",
    "# Add titles\n",
    "ax[0, 0].set_title(\"Accuracy Score on Training Subset\")\n",
    "ax[0, 1].set_title(\"F-score on Training Subset\")\n",
    "ax[1, 0].set_title(\"Accuracy Score on Testing Set\")\n",
    "ax[1, 1].set_title(\"F-score on Testing Set\")\n",
    "\n",
    "patches = []\n",
    "for i, learner in enumerate(results.keys()):\n",
    "    patches.append(mpatches.Patch(color = colors[i], label = learner))\n",
    "\n",
    "    pl.legend(handles = patches, bbox_to_anchor = (-.9, 2.5), \\\n",
    "           loc = 'upper left', borderaxespad = 0., ncol = 4, fontsize = 'medium')\n",
    "\n",
    "# Aesthetics\n",
    "pl.suptitle(\"Performance Metrics for Four Supervised Learning Models\", fontsize = 16, y = 1.10)\n",
    "pl.tight_layout()\n",
    "pl.show()"
   ]
  },
  {
   "cell_type": "code",
   "execution_count": 143,
   "metadata": {},
   "outputs": [
    {
     "name": "stdout",
     "output_type": "stream",
     "text": [
      "\n",
      "Model Report\n",
      "Accuracy : 0.9505\n",
      "AUC Score (Train): 0.927055\n",
      "CV Score : Mean - 0.9129597 | Std - 0.02571439 | Min - 0.8650236 | Max - 0.9424252\n"
     ]
    },
    {
     "data": {
      "image/png": "[encoded data removed]",
      "text/plain": [
       "<matplotlib.figure.Figure at 0xf0387f0>"
      ]
     },
     "metadata": {},
     "output_type": "display_data"
    }
   ],
   "source": [
    "gbm0 = GradientBoostingClassifier(loss='deviance', learning_rate=0.1, n_estimators=100, \n",
    "                                  subsample=1.0, criterion='friedman_mse', min_samples_split=2, \n",
    "                                  min_samples_leaf=1, min_weight_fraction_leaf=0.0, max_depth=3, \n",
    "                                  min_impurity_decrease=0.0, min_impurity_split=None, init=None, \n",
    "                                  random_state=42, max_features=None, verbose=0, max_leaf_nodes=None, \n",
    "                                  warm_start=False, presort='auto')\n",
    "predictors = [x for x in X_train.columns]\n",
    "#print predictors\n",
    "modelfit(gbm0, X_train, y_train, X_test, y_test, predictors)"
   ]
  },
  {
   "cell_type": "code",
   "execution_count": 97,
   "metadata": {},
   "outputs": [
    {
     "data": {
      "text/plain": [
       "([mean: 0.94149, std: 0.00969, params: {'n_estimators': 20},\n",
       "  mean: 0.94337, std: 0.00910, params: {'n_estimators': 30},\n",
       "  mean: 0.94487, std: 0.00920, params: {'n_estimators': 40},\n",
       "  mean: 0.94674, std: 0.00695, params: {'n_estimators': 50},\n",
       "  mean: 0.94712, std: 0.00595, params: {'n_estimators': 60},\n",
       "  mean: 0.94786, std: 0.00630, params: {'n_estimators': 70},\n",
       "  mean: 0.94787, std: 0.00683, params: {'n_estimators': 80},\n",
       "  mean: 0.94674, std: 0.00724, params: {'n_estimators': 90},\n",
       "  mean: 0.94712, std: 0.00618, params: {'n_estimators': 100},\n",
       "  mean: 0.94749, std: 0.00526, params: {'n_estimators': 110},\n",
       "  mean: 0.94749, std: 0.00514, params: {'n_estimators': 120},\n",
       "  mean: 0.94712, std: 0.00504, params: {'n_estimators': 130},\n",
       "  mean: 0.94862, std: 0.00508, params: {'n_estimators': 140},\n",
       "  mean: 0.94862, std: 0.00494, params: {'n_estimators': 150},\n",
       "  mean: 0.94974, std: 0.00642, params: {'n_estimators': 160},\n",
       "  mean: 0.95049, std: 0.00599, params: {'n_estimators': 170},\n",
       "  mean: 0.95049, std: 0.00510, params: {'n_estimators': 180},\n",
       "  mean: 0.95049, std: 0.00586, params: {'n_estimators': 190},\n",
       "  mean: 0.94974, std: 0.00507, params: {'n_estimators': 200}],\n",
       " {'n_estimators': 190},\n",
       " 0.9504900629844739)"
      ]
     },
     "execution_count": 97,
     "metadata": {},
     "output_type": "execute_result"
    }
   ],
   "source": [
    "param_test1 = {'n_estimators':range(20,201,10)}\n",
    "gsearch1 = GridSearchCV(estimator = GradientBoostingClassifier(learning_rate=0.1, min_samples_split=2,\n",
    "                                  min_samples_leaf=1, max_depth=8, max_features=None, subsample=1.0, random_state=42), \n",
    "                       param_grid = param_test1, scoring='accuracy',n_jobs=4,iid=False, cv=5)\n",
    "gsearch1.fit(X_train,y_train)\n",
    "\n",
    "gsearch1.grid_scores_, gsearch1.best_params_, gsearch1.best_score_"
   ]
  },
  {
   "cell_type": "code",
   "execution_count": 99,
   "metadata": {},
   "outputs": [
    {
     "data": {
      "text/plain": [
       "([mean: 0.87509, std: 0.01287, params: {'min_samples_split': 2, 'max_depth': 1},\n",
       "  mean: 0.87509, std: 0.01287, params: {'min_samples_split': 202, 'max_depth': 1},\n",
       "  mean: 0.87509, std: 0.01287, params: {'min_samples_split': 402, 'max_depth': 1},\n",
       "  mean: 0.87509, std: 0.01287, params: {'min_samples_split': 602, 'max_depth': 1},\n",
       "  mean: 0.87509, std: 0.01287, params: {'min_samples_split': 802, 'max_depth': 1},\n",
       "  mean: 0.95461, std: 0.00562, params: {'min_samples_split': 2, 'max_depth': 3},\n",
       "  mean: 0.94036, std: 0.00873, params: {'min_samples_split': 202, 'max_depth': 3},\n",
       "  mean: 0.93174, std: 0.01140, params: {'min_samples_split': 402, 'max_depth': 3},\n",
       "  mean: 0.92836, std: 0.01187, params: {'min_samples_split': 602, 'max_depth': 3},\n",
       "  mean: 0.92611, std: 0.01279, params: {'min_samples_split': 802, 'max_depth': 3},\n",
       "  mean: 0.95574, std: 0.00611, params: {'min_samples_split': 2, 'max_depth': 5},\n",
       "  mean: 0.94374, std: 0.00778, params: {'min_samples_split': 202, 'max_depth': 5},\n",
       "  mean: 0.94111, std: 0.00959, params: {'min_samples_split': 402, 'max_depth': 5},\n",
       "  mean: 0.93286, std: 0.01015, params: {'min_samples_split': 602, 'max_depth': 5},\n",
       "  mean: 0.93061, std: 0.01259, params: {'min_samples_split': 802, 'max_depth': 5},\n",
       "  mean: 0.95237, std: 0.00342, params: {'min_samples_split': 2, 'max_depth': 7},\n",
       "  mean: 0.94411, std: 0.01029, params: {'min_samples_split': 202, 'max_depth': 7},\n",
       "  mean: 0.93962, std: 0.01088, params: {'min_samples_split': 402, 'max_depth': 7},\n",
       "  mean: 0.93324, std: 0.01022, params: {'min_samples_split': 602, 'max_depth': 7},\n",
       "  mean: 0.93361, std: 0.01064, params: {'min_samples_split': 802, 'max_depth': 7},\n",
       "  mean: 0.94937, std: 0.00487, params: {'min_samples_split': 2, 'max_depth': 9},\n",
       "  mean: 0.95124, std: 0.01061, params: {'min_samples_split': 202, 'max_depth': 9},\n",
       "  mean: 0.94261, std: 0.01057, params: {'min_samples_split': 402, 'max_depth': 9},\n",
       "  mean: 0.93624, std: 0.01149, params: {'min_samples_split': 602, 'max_depth': 9},\n",
       "  mean: 0.93511, std: 0.01387, params: {'min_samples_split': 802, 'max_depth': 9},\n",
       "  mean: 0.94262, std: 0.01058, params: {'min_samples_split': 2, 'max_depth': 11},\n",
       "  mean: 0.94937, std: 0.00954, params: {'min_samples_split': 202, 'max_depth': 11},\n",
       "  mean: 0.94149, std: 0.00942, params: {'min_samples_split': 402, 'max_depth': 11},\n",
       "  mean: 0.93736, std: 0.00890, params: {'min_samples_split': 602, 'max_depth': 11},\n",
       "  mean: 0.93549, std: 0.00883, params: {'min_samples_split': 802, 'max_depth': 11},\n",
       "  mean: 0.93737, std: 0.01262, params: {'min_samples_split': 2, 'max_depth': 13},\n",
       "  mean: 0.94937, std: 0.00862, params: {'min_samples_split': 202, 'max_depth': 13},\n",
       "  mean: 0.94187, std: 0.00961, params: {'min_samples_split': 402, 'max_depth': 13},\n",
       "  mean: 0.93511, std: 0.00901, params: {'min_samples_split': 602, 'max_depth': 13},\n",
       "  mean: 0.93399, std: 0.00897, params: {'min_samples_split': 802, 'max_depth': 13},\n",
       "  mean: 0.93437, std: 0.01125, params: {'min_samples_split': 2, 'max_depth': 15},\n",
       "  mean: 0.94712, std: 0.01055, params: {'min_samples_split': 202, 'max_depth': 15},\n",
       "  mean: 0.94074, std: 0.01101, params: {'min_samples_split': 402, 'max_depth': 15},\n",
       "  mean: 0.93511, std: 0.00764, params: {'min_samples_split': 602, 'max_depth': 15},\n",
       "  mean: 0.93586, std: 0.00840, params: {'min_samples_split': 802, 'max_depth': 15}],\n",
       " {'max_depth': 5, 'min_samples_split': 2},\n",
       " 0.9557405355410576)"
      ]
     },
     "execution_count": 99,
     "metadata": {},
     "output_type": "execute_result"
    }
   ],
   "source": [
    "param_test2 = {'max_depth':range(1,16,2), 'min_samples_split':range(2,1001,200)}\n",
    "\n",
    "gsearch2 = GridSearchCV(estimator = GradientBoostingClassifier(n_estimators=190, learning_rate=0.1, \n",
    "                                                                #min_samples_split=2, max_depth=8,\n",
    "                                  min_samples_leaf=1, max_features=None, subsample=1.0, random_state=42), \n",
    "                       param_grid = param_test2, scoring='accuracy',n_jobs=4,iid=False, cv=5)\n",
    "gsearch2.fit(X_train,y_train)\n",
    "\n",
    "gsearch2.grid_scores_, gsearch2.best_params_, gsearch2.best_score_"
   ]
  },
  {
   "cell_type": "code",
   "execution_count": 100,
   "metadata": {},
   "outputs": [
    {
     "data": {
      "text/plain": [
       "([mean: 0.95574, std: 0.00611, params: {'min_samples_leaf': 1},\n",
       "  mean: 0.95612, std: 0.00816, params: {'min_samples_leaf': 2},\n",
       "  mean: 0.95537, std: 0.00641, params: {'min_samples_leaf': 3},\n",
       "  mean: 0.95537, std: 0.00684, params: {'min_samples_leaf': 4},\n",
       "  mean: 0.95537, std: 0.00522, params: {'min_samples_leaf': 5},\n",
       "  mean: 0.95537, std: 0.00694, params: {'min_samples_leaf': 6},\n",
       "  mean: 0.95424, std: 0.00450, params: {'min_samples_leaf': 7},\n",
       "  mean: 0.95574, std: 0.00510, params: {'min_samples_leaf': 8},\n",
       "  mean: 0.95274, std: 0.00494, params: {'min_samples_leaf': 9},\n",
       "  mean: 0.95199, std: 0.00553, params: {'min_samples_leaf': 10},\n",
       "  mean: 0.95424, std: 0.00454, params: {'min_samples_leaf': 11},\n",
       "  mean: 0.95311, std: 0.00265, params: {'min_samples_leaf': 12},\n",
       "  mean: 0.95236, std: 0.00451, params: {'min_samples_leaf': 13},\n",
       "  mean: 0.95424, std: 0.00539, params: {'min_samples_leaf': 14},\n",
       "  mean: 0.95199, std: 0.00388, params: {'min_samples_leaf': 15},\n",
       "  mean: 0.95537, std: 0.00492, params: {'min_samples_leaf': 16},\n",
       "  mean: 0.95274, std: 0.00506, params: {'min_samples_leaf': 17},\n",
       "  mean: 0.95462, std: 0.00778, params: {'min_samples_leaf': 18},\n",
       "  mean: 0.95161, std: 0.00273, params: {'min_samples_leaf': 19},\n",
       "  mean: 0.95349, std: 0.00519, params: {'min_samples_leaf': 20}],\n",
       " {'min_samples_leaf': 2},\n",
       " 0.9561199993892441)"
      ]
     },
     "execution_count": 100,
     "metadata": {},
     "output_type": "execute_result"
    }
   ],
   "source": [
    "param_test3 = {'min_samples_leaf':range(1,21,1)}\n",
    "\n",
    "gsearch3 = GridSearchCV(estimator = GradientBoostingClassifier(n_estimators=190, learning_rate=0.1, \n",
    "                                    max_features=None, subsample=1.0, random_state=42, min_samples_split=2, max_depth=5,\n",
    "                                    #min_samples_leaf=1\n",
    "                                                              ), \n",
    "                       param_grid = param_test3, scoring='accuracy',n_jobs=4,iid=False, cv=5)\n",
    "gsearch3.fit(X_train,y_train)\n",
    "\n",
    "gsearch3.grid_scores_, gsearch3.best_params_, gsearch3.best_score_"
   ]
  },
  {
   "cell_type": "code",
   "execution_count": 102,
   "metadata": {},
   "outputs": [
    {
     "data": {
      "text/plain": [
       "([mean: 0.92612, std: 0.00837, params: {'max_features': 1},\n",
       "  mean: 0.95349, std: 0.00506, params: {'max_features': 3},\n",
       "  mean: 0.95612, std: 0.00344, params: {'max_features': 5},\n",
       "  mean: 0.95499, std: 0.00616, params: {'max_features': 7},\n",
       "  mean: 0.95612, std: 0.00799, params: {'max_features': 9},\n",
       "  mean: 0.95649, std: 0.00664, params: {'max_features': 11},\n",
       "  mean: 0.95499, std: 0.00627, params: {'max_features': 13},\n",
       "  mean: 0.95649, std: 0.00814, params: {'max_features': 15},\n",
       "  mean: 0.95687, std: 0.00720, params: {'max_features': 17},\n",
       "  mean: 0.95424, std: 0.00644, params: {'max_features': 19}],\n",
       " {'max_features': 17},\n",
       " 0.9568669470755118)"
      ]
     },
     "execution_count": 102,
     "metadata": {},
     "output_type": "execute_result"
    }
   ],
   "source": [
    "param_test4 = {'max_features':range(1,20,2)}\n",
    "\n",
    "gsearch4 = GridSearchCV(estimator = GradientBoostingClassifier(n_estimators=190, learning_rate=0.1, \n",
    "                                    #max_features=None, \n",
    "                                    subsample=1.0, random_state=42, min_samples_split=2, max_depth=5,\n",
    "                                    min_samples_leaf=2), \n",
    "                       param_grid = param_test4, scoring='accuracy',n_jobs=4,iid=False, cv=5)\n",
    "gsearch4.fit(X_train,y_train)\n",
    "\n",
    "gsearch4.grid_scores_, gsearch4.best_params_, gsearch4.best_score_"
   ]
  },
  {
   "cell_type": "code",
   "execution_count": 147,
   "metadata": {},
   "outputs": [
    {
     "name": "stdout",
     "output_type": "stream",
     "text": [
      "\n",
      "Model Report\n",
      "Accuracy : 0.955\n",
      "AUC Score (Train): 0.914477\n",
      "CV Score : Mean - 0.903292 | Std - 0.02278571 | Min - 0.8614534 | Max - 0.9241809\n"
     ]
    },
    {
     "data": {
      "image/png": "[encoded data removed]",
      "text/plain": [
       "<matplotlib.figure.Figure at 0xed4e748>"
      ]
     },
     "metadata": {},
     "output_type": "display_data"
    }
   ],
   "source": [
    "gmb_final = GradientBoostingClassifier(n_estimators=190, learning_rate=0.1, \n",
    "                                    max_features=17, \n",
    "                                    subsample=1.0, random_state=42, min_samples_split=2, max_depth=5,\n",
    "                                    min_samples_leaf=2)\n",
    "\n",
    "modelfit(gmb_final, X_train, y_train, X_test, y_test, predictors)"
   ]
  },
  {
   "cell_type": "code",
   "execution_count": 118,
   "metadata": {},
   "outputs": [],
   "source": [
    "importances = gmb_final.feature_importances_"
   ]
  },
  {
   "cell_type": "code",
   "execution_count": 145,
   "metadata": {},
   "outputs": [
    {
     "name": "stdout",
     "output_type": "stream",
     "text": [
      "\n",
      "Model Report\n",
      "Accuracy : 0.9175\n",
      "AUC Score (Train): 0.875958\n",
      "CV Score : Mean - 0.8563718 | Std - 0.02638504 | Min - 0.8097432 | Max - 0.8876638\n"
     ]
    },
    {
     "data": {
      "image/png": "[encoded data removed]",
      "text/plain": [
       "<matplotlib.figure.Figure at 0xf33c8d0>"
      ]
     },
     "metadata": {},
     "output_type": "display_data"
    }
   ],
   "source": [
    "# Reduce the feature space\n",
    "\n",
    "clm=(np.argsort(importances)[::-1])[:15]\n",
    "\n",
    "X_train_reduced = X_train[X_train.columns.values[clm]]\n",
    "X_test_reduced = X_test[X_test.columns.values[clm]]\n",
    "\n",
    "X_train_reduced.head()\n",
    "X_test_reduced.head()\n",
    "\n",
    "predictors_red = [x for x in X_train_reduced.columns]\n",
    "\n",
    "gmb_final_red = GradientBoostingClassifier(n_estimators=190, learning_rate=0.1, \n",
    "                                    max_features=15, \n",
    "                                    subsample=1.0, random_state=42, min_samples_split=2, max_depth=5,\n",
    "                                    min_samples_leaf=2)\n",
    "\n",
    "modelfit(gmb_final_red, X_train_reduced, y_train, X_test_reduced, y_test, predictors_red)\n"
   ]
  },
  {
   "cell_type": "code",
   "execution_count": null,
   "metadata": {
    "collapsed": true
   },
   "outputs": [],
   "source": []
  }
 ],
 "metadata": {
  "kernelspec": {
   "display_name": "Python 2",
   "language": "python",
   "name": "python2"
  },
  "language_info": {
   "codemirror_mode": {
    "name": "ipython",
    "version": 2
   },
   "file_extension": ".py",
   "mimetype": "text/x-python",
   "name": "python",
   "nbconvert_exporter": "python",
   "pygments_lexer": "ipython2",
   "version": "2.7.14"
  }
 },
 "nbformat": 4,
 "nbformat_minor": 2
}
